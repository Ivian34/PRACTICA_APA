{
 "cells": [
  {
   "cell_type": "code",
   "execution_count": 1,
   "metadata": {},
   "outputs": [],
   "source": [
    "#install libraries\n",
    "!pip3 install matplotlib  --upgrade --quiet\n",
    "!pip3 install seaborn  --upgrade --quiet\n",
    "!pip3 install scikit-learn --upgrade --quiet\n",
    "!pip3 install pandas --upgrade --quiet\n",
    "!pip3 install numpy  --upgrade --quiet"
   ]
  }
 ],
 "metadata": {
  "kernelspec": {
   "display_name": ".venv",
   "language": "python",
   "name": "python3"
  },
  "language_info": {
   "codemirror_mode": {
    "name": "ipython",
    "version": 3
   },
   "file_extension": ".py",
   "mimetype": "text/x-python",
   "name": "python",
   "nbconvert_exporter": "python",
   "pygments_lexer": "ipython3",
   "version": "3.12.3"
  }
 },
 "nbformat": 4,
 "nbformat_minor": 2
}
